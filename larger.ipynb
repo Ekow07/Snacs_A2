{
 "cells": [
  {
   "cell_type": "code",
   "execution_count": 1,
   "metadata": {},
   "outputs": [],
   "source": [
    "import networkx as nx\n",
    "import matplotlib.pyplot as  plt\n",
    "import numpy as np\n",
    "import pandas as pd\n"
   ]
  },
  {
   "cell_type": "code",
   "execution_count": 2,
   "metadata": {},
   "outputs": [],
   "source": [
    "t_Large = pd.read_csv(\"twitter-Larger.tsv\", sep ='\\t',header =None)"
   ]
  },
  {
   "cell_type": "code",
   "execution_count": 3,
   "metadata": {},
   "outputs": [],
   "source": [
    "t_Large.columns=['timestamp','user','tweet']\n",
    "users = t_Large['user']"
   ]
  },
  {
   "cell_type": "code",
   "execution_count": 4,
   "metadata": {},
   "outputs": [],
   "source": [
    "import re\n",
    "ajd_list = {}\n",
    "\n",
    "for user in users:\n",
    "  ajd_list[user] = {}\n",
    "  tweets = t_Large.loc[t_Large['user'] == user, 'tweet']\n",
    "  for tweet in tweets:\n",
    "    mentions = re.findall(r\"(?<=^|(?<=[^a-zA-Z0-9-_\\.]))@([A-Za-z]+[A-Za-z0-9-_]+)\", tweet)\n",
    "    for mention in mentions:\n",
    "      count = ajd_list[user].get(mention)\n",
    "      if count != None:\n",
    "        count  = ajd_list[user].get(mention).get(\"weight\")\n",
    "        ajd_list[user][mention][\"weight\"] = count + 1\n",
    "      else :\n",
    "         ajd_list[user][mention] = {}\n",
    "         ajd_list[user][mention][\"weight\"] = 1\n",
    "        #  ajd_list[user][\"weight\"] = 1"
   ]
  },
  {
   "cell_type": "code",
   "execution_count": null,
   "metadata": {},
   "outputs": [],
   "source": [
    "G = nx.DiGraph(ajd_list)"
   ]
  },
  {
   "cell_type": "code",
   "execution_count": null,
   "metadata": {},
   "outputs": [],
   "source": [
    "print(\"Twitter Large Number of Edges:\",G.number_of_edges())\n",
    "print(\"Twitter Large Number of Nodes:\",G.number_of_nodes())\n",
    "print(\"Twitter Large Number of Strongly Connect Components:\",nx.number_strongly_connected_components(G))\n",
    "print(\"Twitter Large Number of Weakly Connect Components:\",nx.number_weakly_connected_components(G))\n",
    "print(\"Twitter Large Density:\",nx.density(G))\n",
    "print(\"Twitter Large Average Clustering:\",nx.average_clustering(G))\n"
   ]
  },
  {
   "cell_type": "code",
   "execution_count": null,
   "metadata": {},
   "outputs": [],
   "source": [
    "giant = max(nx.connected_components(G.to_undirected()), key=len )\n",
    "\n",
    "G_giant = G.subgraph(giant)"
   ]
  },
  {
   "cell_type": "code",
   "execution_count": null,
   "metadata": {},
   "outputs": [],
   "source": [
    "l_nodes = list(G.nodes)\n",
    "# M_nodes = list(medium.nodes)\n",
    "# print(l_nodes)\n",
    "\n",
    "# m_out ={}\n",
    "# m_in = {}\n",
    "m_in = []\n",
    "for i in l_nodes:\n",
    "  m_in.append(G.in_degree(i))\n",
    "freq = {}\n",
    "for item in m_in:\n",
    "  if (item in freq):\n",
    "    freq[item] += 1\n",
    "  else:\n",
    "    freq[item] = 1\n",
    "\n",
    "x = list(freq.keys())\n",
    "y = list(freq.values())\n",
    "plt.scatter(x,y )\n",
    "plt.title(\"Twitter_Large In_Degree\")\n",
    "plt.xlabel(\"Degree\")\n",
    "plt.ylabel(\"Frequency \")\n",
    "plt.yscale('log')\n",
    "plt.show()"
   ]
  },
  {
   "cell_type": "code",
   "execution_count": null,
   "metadata": {},
   "outputs": [],
   "source": [
    "l_nodes = list(G.nodes)\n",
    "\n",
    "m_out = [] \n",
    "for i in l_nodes:\n",
    "  m_out.append(G.out_degree(i))\n",
    "\n",
    "\n",
    "freq = {}\n",
    "for item in m_out:\n",
    "  if (item in freq):\n",
    "    freq[item] += 1\n",
    "  else:\n",
    "    freq[item] = 1\n",
    "\n",
    "\n",
    "x = list(freq.keys())\n",
    "y = list(freq.values())\n",
    "plt.scatter(x,y )\n",
    "plt.title(\"Twitter_Large Out Degree\")\n",
    "plt.xlabel(\"Degree\")\n",
    "plt.ylabel(\"Frequency \")\n",
    "plt.yscale('log')\n",
    "plt.show()"
   ]
  }
 ],
 "metadata": {
  "kernelspec": {
   "display_name": "Python 3",
   "language": "python",
   "name": "python3"
  },
  "language_info": {
   "codemirror_mode": {
    "name": "ipython",
    "version": 3
   },
   "file_extension": ".py",
   "mimetype": "text/x-python",
   "name": "python",
   "nbconvert_exporter": "python",
   "pygments_lexer": "ipython3",
   "version": "3.11.1"
  }
 },
 "nbformat": 4,
 "nbformat_minor": 2
}
